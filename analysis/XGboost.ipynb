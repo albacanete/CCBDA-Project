{
 "cells": [
  {
   "cell_type": "code",
   "execution_count": 1,
   "id": "3b703126-52f4-4e0c-9dc8-fbe05f2df2ac",
   "metadata": {},
   "outputs": [],
   "source": [
    "import pandas as pd\n",
    "import numpy as np\n",
    "\n",
    "from xgboost import XGBRegressor\n",
    "\n",
    "from sklearn.compose import make_column_transformer,make_column_selector\n",
    "from sklearn.pipeline import Pipeline\n",
    "from sklearn.impute import SimpleImputer\n",
    "from sklearn.preprocessing import StandardScaler, OneHotEncoder\n",
    "from sklearn.feature_extraction.text import CountVectorizer\n",
    "from sklearn.model_selection import cross_val_score,train_test_split,GridSearchCV"
   ]
  },
  {
   "cell_type": "code",
   "execution_count": 2,
   "id": "21d2394d-c043-47a8-9e2a-ff201100f6d4",
   "metadata": {},
   "outputs": [],
   "source": [
    "players = pd.read_csv(\"players.csv\")\n",
    "squads = pd.read_csv(\"squads.csv\")"
   ]
  },
  {
   "cell_type": "code",
   "execution_count": 3,
   "id": "a0bb8282-01e1-4a7c-a3a3-12c78da0f089",
   "metadata": {},
   "outputs": [],
   "source": [
    "df = players.join(squads.set_index([\"squad_name\", \"year\"]), how=\"left\", on=[\"squad_name\", \"year\"], lsuffix=\"_player\", rsuffix=\"_squad\")\n",
    "\n",
    "num = df._get_numeric_data()\n",
    "num[num < 0] = pd.NA"
   ]
  },
  {
   "cell_type": "code",
   "execution_count": 4,
   "id": "ecf4e253-8fc5-42e9-a1a0-4c07fd2e6329",
   "metadata": {},
   "outputs": [
    {
     "data": {
      "text/html": [
       "<div>\n",
       "<style scoped>\n",
       "    .dataframe tbody tr th:only-of-type {\n",
       "        vertical-align: middle;\n",
       "    }\n",
       "\n",
       "    .dataframe tbody tr th {\n",
       "        vertical-align: top;\n",
       "    }\n",
       "\n",
       "    .dataframe thead th {\n",
       "        text-align: right;\n",
       "    }\n",
       "</style>\n",
       "<table border=\"1\" class=\"dataframe\">\n",
       "  <thead>\n",
       "    <tr style=\"text-align: right;\">\n",
       "      <th></th>\n",
       "      <th>age</th>\n",
       "      <th>value_player</th>\n",
       "      <th>year</th>\n",
       "      <th>games_played</th>\n",
       "      <th>goals</th>\n",
       "      <th>assists</th>\n",
       "      <th>minute_played</th>\n",
       "      <th>goals_conceded</th>\n",
       "      <th>clean_sheets</th>\n",
       "      <th>avg_age</th>\n",
       "      <th>squad_value</th>\n",
       "      <th>number_players</th>\n",
       "    </tr>\n",
       "  </thead>\n",
       "  <tbody>\n",
       "    <tr>\n",
       "      <th>count</th>\n",
       "      <td>42118.000000</td>\n",
       "      <td>4.211800e+04</td>\n",
       "      <td>42118.000000</td>\n",
       "      <td>42118.000000</td>\n",
       "      <td>37417.000000</td>\n",
       "      <td>37417.000000</td>\n",
       "      <td>42118.000000</td>\n",
       "      <td>4701.000000</td>\n",
       "      <td>4701.000000</td>\n",
       "      <td>42118.000000</td>\n",
       "      <td>4.211800e+04</td>\n",
       "      <td>42118.000000</td>\n",
       "    </tr>\n",
       "    <tr>\n",
       "      <th>mean</th>\n",
       "      <td>24.390142</td>\n",
       "      <td>5.631461e+06</td>\n",
       "      <td>2015.430695</td>\n",
       "      <td>24.164015</td>\n",
       "      <td>2.973675</td>\n",
       "      <td>2.125157</td>\n",
       "      <td>1730.675151</td>\n",
       "      <td>22.058073</td>\n",
       "      <td>4.928951</td>\n",
       "      <td>25.343775</td>\n",
       "      <td>2.052651e+08</td>\n",
       "      <td>37.577710</td>\n",
       "    </tr>\n",
       "    <tr>\n",
       "      <th>std</th>\n",
       "      <td>4.834412</td>\n",
       "      <td>1.090845e+07</td>\n",
       "      <td>3.373213</td>\n",
       "      <td>12.595201</td>\n",
       "      <td>4.612372</td>\n",
       "      <td>2.923134</td>\n",
       "      <td>1063.986822</td>\n",
       "      <td>19.439744</td>\n",
       "      <td>5.220464</td>\n",
       "      <td>1.105396</td>\n",
       "      <td>2.065252e+08</td>\n",
       "      <td>7.883551</td>\n",
       "    </tr>\n",
       "    <tr>\n",
       "      <th>min</th>\n",
       "      <td>-1.000000</td>\n",
       "      <td>-1.000000e+00</td>\n",
       "      <td>2010.000000</td>\n",
       "      <td>0.000000</td>\n",
       "      <td>0.000000</td>\n",
       "      <td>0.000000</td>\n",
       "      <td>0.000000</td>\n",
       "      <td>0.000000</td>\n",
       "      <td>0.000000</td>\n",
       "      <td>22.000000</td>\n",
       "      <td>1.840000e+07</td>\n",
       "      <td>21.000000</td>\n",
       "    </tr>\n",
       "    <tr>\n",
       "      <th>25%</th>\n",
       "      <td>20.000000</td>\n",
       "      <td>5.000000e+05</td>\n",
       "      <td>2013.000000</td>\n",
       "      <td>15.000000</td>\n",
       "      <td>0.000000</td>\n",
       "      <td>0.000000</td>\n",
       "      <td>887.000000</td>\n",
       "      <td>5.000000</td>\n",
       "      <td>1.000000</td>\n",
       "      <td>24.600000</td>\n",
       "      <td>7.150000e+07</td>\n",
       "      <td>33.000000</td>\n",
       "    </tr>\n",
       "    <tr>\n",
       "      <th>50%</th>\n",
       "      <td>24.000000</td>\n",
       "      <td>2.000000e+06</td>\n",
       "      <td>2015.000000</td>\n",
       "      <td>25.000000</td>\n",
       "      <td>1.000000</td>\n",
       "      <td>1.000000</td>\n",
       "      <td>1682.000000</td>\n",
       "      <td>18.000000</td>\n",
       "      <td>3.000000</td>\n",
       "      <td>25.300000</td>\n",
       "      <td>1.230300e+08</td>\n",
       "      <td>36.000000</td>\n",
       "    </tr>\n",
       "    <tr>\n",
       "      <th>75%</th>\n",
       "      <td>28.000000</td>\n",
       "      <td>5.500000e+06</td>\n",
       "      <td>2018.000000</td>\n",
       "      <td>34.000000</td>\n",
       "      <td>4.000000</td>\n",
       "      <td>3.000000</td>\n",
       "      <td>2508.000000</td>\n",
       "      <td>36.000000</td>\n",
       "      <td>8.000000</td>\n",
       "      <td>26.000000</td>\n",
       "      <td>2.543300e+08</td>\n",
       "      <td>41.000000</td>\n",
       "    </tr>\n",
       "    <tr>\n",
       "      <th>max</th>\n",
       "      <td>43.000000</td>\n",
       "      <td>2.000000e+08</td>\n",
       "      <td>2021.000000</td>\n",
       "      <td>75.000000</td>\n",
       "      <td>73.000000</td>\n",
       "      <td>35.000000</td>\n",
       "      <td>6498.000000</td>\n",
       "      <td>91.000000</td>\n",
       "      <td>32.000000</td>\n",
       "      <td>30.100000</td>\n",
       "      <td>1.200000e+09</td>\n",
       "      <td>88.000000</td>\n",
       "    </tr>\n",
       "  </tbody>\n",
       "</table>\n",
       "</div>"
      ],
      "text/plain": [
       "                age  value_player          year  games_played         goals  \\\n",
       "count  42118.000000  4.211800e+04  42118.000000  42118.000000  37417.000000   \n",
       "mean      24.390142  5.631461e+06   2015.430695     24.164015      2.973675   \n",
       "std        4.834412  1.090845e+07      3.373213     12.595201      4.612372   \n",
       "min       -1.000000 -1.000000e+00   2010.000000      0.000000      0.000000   \n",
       "25%       20.000000  5.000000e+05   2013.000000     15.000000      0.000000   \n",
       "50%       24.000000  2.000000e+06   2015.000000     25.000000      1.000000   \n",
       "75%       28.000000  5.500000e+06   2018.000000     34.000000      4.000000   \n",
       "max       43.000000  2.000000e+08   2021.000000     75.000000     73.000000   \n",
       "\n",
       "            assists  minute_played  goals_conceded  clean_sheets  \\\n",
       "count  37417.000000   42118.000000     4701.000000   4701.000000   \n",
       "mean       2.125157    1730.675151       22.058073      4.928951   \n",
       "std        2.923134    1063.986822       19.439744      5.220464   \n",
       "min        0.000000       0.000000        0.000000      0.000000   \n",
       "25%        0.000000     887.000000        5.000000      1.000000   \n",
       "50%        1.000000    1682.000000       18.000000      3.000000   \n",
       "75%        3.000000    2508.000000       36.000000      8.000000   \n",
       "max       35.000000    6498.000000       91.000000     32.000000   \n",
       "\n",
       "            avg_age   squad_value  number_players  \n",
       "count  42118.000000  4.211800e+04    42118.000000  \n",
       "mean      25.343775  2.052651e+08       37.577710  \n",
       "std        1.105396  2.065252e+08        7.883551  \n",
       "min       22.000000  1.840000e+07       21.000000  \n",
       "25%       24.600000  7.150000e+07       33.000000  \n",
       "50%       25.300000  1.230300e+08       36.000000  \n",
       "75%       26.000000  2.543300e+08       41.000000  \n",
       "max       30.100000  1.200000e+09       88.000000  "
      ]
     },
     "execution_count": 4,
     "metadata": {},
     "output_type": "execute_result"
    }
   ],
   "source": [
    "df.describe()"
   ]
  },
  {
   "cell_type": "code",
   "execution_count": 5,
   "id": "7729393a-a236-43b3-97a5-db773bcf11d0",
   "metadata": {},
   "outputs": [
    {
     "data": {
      "text/plain": [
       "False"
      ]
     },
     "execution_count": 5,
     "metadata": {},
     "output_type": "execute_result"
    }
   ],
   "source": [
    "any(df['championship_squad'] != df['championship_player'])"
   ]
  },
  {
   "cell_type": "markdown",
   "id": "ddcd84cc-4cb4-449a-b276-2a0f47355719",
   "metadata": {},
   "source": [
    "Since there are no values where player plays in different championship than squad, we drop the column:"
   ]
  },
  {
   "cell_type": "code",
   "execution_count": 6,
   "id": "3dacba38-9d84-4038-99cf-ea21579ef461",
   "metadata": {},
   "outputs": [],
   "source": [
    "df = players.join(squads.drop('championship', axis=1).set_index([\"squad_name\", \"year\"]), how=\"left\", on=[\"squad_name\", \"year\"])"
   ]
  },
  {
   "cell_type": "markdown",
   "id": "e280354f-937f-4a35-b4d4-5b0ac4df4f2c",
   "metadata": {},
   "source": [
    "Define the preprocessing transformations\n",
    "\n",
    "For numeric:\n",
    "- Impute values using the median (this may not be the best aproach)\n",
    "- Scale the data with a StandardScaler\n",
    "\n",
    "For categorical variables we perform a OneHotEncoding (ignoring unknowns in case there is a malformed call to the model)\n",
    "\n",
    "Finally, we use CountVectorizer on text variables (player name)"
   ]
  },
  {
   "cell_type": "code",
   "execution_count": 7,
   "id": "ce0789b3-dbec-4a9a-90b4-3e9d94c5b24e",
   "metadata": {},
   "outputs": [],
   "source": [
    "numeric_transformer = Pipeline(\n",
    "    steps=[\n",
    "            (\"imputer\", SimpleImputer(strategy=\"median\")),\n",
    "            (\"scaler\", StandardScaler()),\n",
    "          ]\n",
    ")\n",
    "\n",
    "# If a category has low frequency on training, label it as infrequent, when running\n",
    "# the model a category is not found it will be asigned as infrequent or ignored.\n",
    "categorical_transformer = OneHotEncoder(\n",
    "    handle_unknown=\"infrequent_if_exist\",\n",
    "    min_frequency=0.001,\n",
    ")\n",
    "\n",
    "categorical_columns = [\"squad_name\", \"role\", \"championship\"]\n",
    "\n",
    "column_trans = make_column_transformer(\n",
    "    (CountVectorizer(), \"name_player\"),\n",
    "    (categorical_transformer, categorical_columns),\n",
    "    remainder=numeric_transformer\n",
    ")"
   ]
  },
  {
   "cell_type": "code",
   "execution_count": 8,
   "id": "02a2ebd0-0e29-4db6-a2b7-5f5b681fc431",
   "metadata": {},
   "outputs": [
    {
     "name": "stdout",
     "output_type": "stream",
     "text": [
      "<class 'pandas.core.frame.DataFrame'>\n",
      "RangeIndex: 42118 entries, 0 to 42117\n",
      "Data columns (total 16 columns):\n",
      " #   Column          Non-Null Count  Dtype  \n",
      "---  ------          --------------  -----  \n",
      " 0   name_player     42118 non-null  object \n",
      " 1   age             42118 non-null  int64  \n",
      " 2   role            42118 non-null  object \n",
      " 3   value_player    42118 non-null  int64  \n",
      " 4   squad_name      42118 non-null  object \n",
      " 5   year            42118 non-null  int64  \n",
      " 6   games_played    42118 non-null  int64  \n",
      " 7   goals           37417 non-null  float64\n",
      " 8   assists         37417 non-null  float64\n",
      " 9   minute_played   42118 non-null  int64  \n",
      " 10  championship    42118 non-null  object \n",
      " 11  goals_conceded  4701 non-null   float64\n",
      " 12  clean_sheets    4701 non-null   float64\n",
      " 13  avg_age         42118 non-null  float64\n",
      " 14  squad_value     42118 non-null  int64  \n",
      " 15  number_players  42118 non-null  int64  \n",
      "dtypes: float64(5), int64(7), object(4)\n",
      "memory usage: 5.1+ MB\n"
     ]
    }
   ],
   "source": [
    "df.role = df.role.astype(\"object\")\n",
    "df.info()"
   ]
  },
  {
   "cell_type": "markdown",
   "id": "a6092ec2-320f-413c-8602-1a1c49969595",
   "metadata": {},
   "source": [
    "Simple XGBoost on R2 with a train test split of 8:2"
   ]
  },
  {
   "cell_type": "code",
   "execution_count": 9,
   "id": "e6311616-d342-4e20-8b32-30106edf09ba",
   "metadata": {},
   "outputs": [
    {
     "data": {
      "text/html": [
       "<style>#sk-container-id-1 {color: black;background-color: white;}#sk-container-id-1 pre{padding: 0;}#sk-container-id-1 div.sk-toggleable {background-color: white;}#sk-container-id-1 label.sk-toggleable__label {cursor: pointer;display: block;width: 100%;margin-bottom: 0;padding: 0.3em;box-sizing: border-box;text-align: center;}#sk-container-id-1 label.sk-toggleable__label-arrow:before {content: \"▸\";float: left;margin-right: 0.25em;color: #696969;}#sk-container-id-1 label.sk-toggleable__label-arrow:hover:before {color: black;}#sk-container-id-1 div.sk-estimator:hover label.sk-toggleable__label-arrow:before {color: black;}#sk-container-id-1 div.sk-toggleable__content {max-height: 0;max-width: 0;overflow: hidden;text-align: left;background-color: #f0f8ff;}#sk-container-id-1 div.sk-toggleable__content pre {margin: 0.2em;color: black;border-radius: 0.25em;background-color: #f0f8ff;}#sk-container-id-1 input.sk-toggleable__control:checked~div.sk-toggleable__content {max-height: 200px;max-width: 100%;overflow: auto;}#sk-container-id-1 input.sk-toggleable__control:checked~label.sk-toggleable__label-arrow:before {content: \"▾\";}#sk-container-id-1 div.sk-estimator input.sk-toggleable__control:checked~label.sk-toggleable__label {background-color: #d4ebff;}#sk-container-id-1 div.sk-label input.sk-toggleable__control:checked~label.sk-toggleable__label {background-color: #d4ebff;}#sk-container-id-1 input.sk-hidden--visually {border: 0;clip: rect(1px 1px 1px 1px);clip: rect(1px, 1px, 1px, 1px);height: 1px;margin: -1px;overflow: hidden;padding: 0;position: absolute;width: 1px;}#sk-container-id-1 div.sk-estimator {font-family: monospace;background-color: #f0f8ff;border: 1px dotted black;border-radius: 0.25em;box-sizing: border-box;margin-bottom: 0.5em;}#sk-container-id-1 div.sk-estimator:hover {background-color: #d4ebff;}#sk-container-id-1 div.sk-parallel-item::after {content: \"\";width: 100%;border-bottom: 1px solid gray;flex-grow: 1;}#sk-container-id-1 div.sk-label:hover label.sk-toggleable__label {background-color: #d4ebff;}#sk-container-id-1 div.sk-serial::before {content: \"\";position: absolute;border-left: 1px solid gray;box-sizing: border-box;top: 0;bottom: 0;left: 50%;z-index: 0;}#sk-container-id-1 div.sk-serial {display: flex;flex-direction: column;align-items: center;background-color: white;padding-right: 0.2em;padding-left: 0.2em;position: relative;}#sk-container-id-1 div.sk-item {position: relative;z-index: 1;}#sk-container-id-1 div.sk-parallel {display: flex;align-items: stretch;justify-content: center;background-color: white;position: relative;}#sk-container-id-1 div.sk-item::before, #sk-container-id-1 div.sk-parallel-item::before {content: \"\";position: absolute;border-left: 1px solid gray;box-sizing: border-box;top: 0;bottom: 0;left: 50%;z-index: -1;}#sk-container-id-1 div.sk-parallel-item {display: flex;flex-direction: column;z-index: 1;position: relative;background-color: white;}#sk-container-id-1 div.sk-parallel-item:first-child::after {align-self: flex-end;width: 50%;}#sk-container-id-1 div.sk-parallel-item:last-child::after {align-self: flex-start;width: 50%;}#sk-container-id-1 div.sk-parallel-item:only-child::after {width: 0;}#sk-container-id-1 div.sk-dashed-wrapped {border: 1px dashed gray;margin: 0 0.4em 0.5em 0.4em;box-sizing: border-box;padding-bottom: 0.4em;background-color: white;}#sk-container-id-1 div.sk-label label {font-family: monospace;font-weight: bold;display: inline-block;line-height: 1.2em;}#sk-container-id-1 div.sk-label-container {text-align: center;}#sk-container-id-1 div.sk-container {/* jupyter's `normalize.less` sets `[hidden] { display: none; }` but bootstrap.min.css set `[hidden] { display: none !important; }` so we also need the `!important` here to be able to override the default hidden behavior on the sphinx rendered scikit-learn.org. See: https://github.com/scikit-learn/scikit-learn/issues/21755 */display: inline-block !important;position: relative;}#sk-container-id-1 div.sk-text-repr-fallback {display: none;}</style><div id=\"sk-container-id-1\" class=\"sk-top-container\"><div class=\"sk-text-repr-fallback\"><pre>Pipeline(steps=[(&#x27;preprocessor&#x27;,\n",
       "                 ColumnTransformer(remainder=Pipeline(steps=[(&#x27;imputer&#x27;,\n",
       "                                                              SimpleImputer(strategy=&#x27;median&#x27;)),\n",
       "                                                             (&#x27;scaler&#x27;,\n",
       "                                                              StandardScaler())]),\n",
       "                                   transformers=[(&#x27;countvectorizer&#x27;,\n",
       "                                                  CountVectorizer(),\n",
       "                                                  &#x27;name_player&#x27;),\n",
       "                                                 (&#x27;onehotencoder&#x27;,\n",
       "                                                  OneHotEncoder(handle_unknown=&#x27;infrequent_if_exist&#x27;,\n",
       "                                                                min_frequency=0.001),\n",
       "                                                  [&#x27;squad_name&#x27;, &#x27;role&#x27;,\n",
       "                                                   &#x27;championship&#x27;])])),\n",
       "                (&#x27;c...\n",
       "                              gamma=None, gpu_id=None, grow_policy=None,\n",
       "                              importance_type=None,\n",
       "                              interaction_constraints=None, learning_rate=None,\n",
       "                              max_bin=None, max_cat_to_onehot=None,\n",
       "                              max_delta_step=None, max_depth=None,\n",
       "                              max_leaves=None, min_child_weight=None,\n",
       "                              missing=nan, monotone_constraints=None,\n",
       "                              n_estimators=100, n_jobs=None,\n",
       "                              num_parallel_tree=None, predictor=None,\n",
       "                              random_state=None, reg_alpha=None,\n",
       "                              reg_lambda=None, ...))])</pre><b>In a Jupyter environment, please rerun this cell to show the HTML representation or trust the notebook. <br />On GitHub, the HTML representation is unable to render, please try loading this page with nbviewer.org.</b></div><div class=\"sk-container\" hidden><div class=\"sk-item sk-dashed-wrapped\"><div class=\"sk-label-container\"><div class=\"sk-label sk-toggleable\"><input class=\"sk-toggleable__control sk-hidden--visually\" id=\"sk-estimator-id-1\" type=\"checkbox\" ><label for=\"sk-estimator-id-1\" class=\"sk-toggleable__label sk-toggleable__label-arrow\">Pipeline</label><div class=\"sk-toggleable__content\"><pre>Pipeline(steps=[(&#x27;preprocessor&#x27;,\n",
       "                 ColumnTransformer(remainder=Pipeline(steps=[(&#x27;imputer&#x27;,\n",
       "                                                              SimpleImputer(strategy=&#x27;median&#x27;)),\n",
       "                                                             (&#x27;scaler&#x27;,\n",
       "                                                              StandardScaler())]),\n",
       "                                   transformers=[(&#x27;countvectorizer&#x27;,\n",
       "                                                  CountVectorizer(),\n",
       "                                                  &#x27;name_player&#x27;),\n",
       "                                                 (&#x27;onehotencoder&#x27;,\n",
       "                                                  OneHotEncoder(handle_unknown=&#x27;infrequent_if_exist&#x27;,\n",
       "                                                                min_frequency=0.001),\n",
       "                                                  [&#x27;squad_name&#x27;, &#x27;role&#x27;,\n",
       "                                                   &#x27;championship&#x27;])])),\n",
       "                (&#x27;c...\n",
       "                              gamma=None, gpu_id=None, grow_policy=None,\n",
       "                              importance_type=None,\n",
       "                              interaction_constraints=None, learning_rate=None,\n",
       "                              max_bin=None, max_cat_to_onehot=None,\n",
       "                              max_delta_step=None, max_depth=None,\n",
       "                              max_leaves=None, min_child_weight=None,\n",
       "                              missing=nan, monotone_constraints=None,\n",
       "                              n_estimators=100, n_jobs=None,\n",
       "                              num_parallel_tree=None, predictor=None,\n",
       "                              random_state=None, reg_alpha=None,\n",
       "                              reg_lambda=None, ...))])</pre></div></div></div><div class=\"sk-serial\"><div class=\"sk-item sk-dashed-wrapped\"><div class=\"sk-label-container\"><div class=\"sk-label sk-toggleable\"><input class=\"sk-toggleable__control sk-hidden--visually\" id=\"sk-estimator-id-2\" type=\"checkbox\" ><label for=\"sk-estimator-id-2\" class=\"sk-toggleable__label sk-toggleable__label-arrow\">preprocessor: ColumnTransformer</label><div class=\"sk-toggleable__content\"><pre>ColumnTransformer(remainder=Pipeline(steps=[(&#x27;imputer&#x27;,\n",
       "                                             SimpleImputer(strategy=&#x27;median&#x27;)),\n",
       "                                            (&#x27;scaler&#x27;, StandardScaler())]),\n",
       "                  transformers=[(&#x27;countvectorizer&#x27;, CountVectorizer(),\n",
       "                                 &#x27;name_player&#x27;),\n",
       "                                (&#x27;onehotencoder&#x27;,\n",
       "                                 OneHotEncoder(handle_unknown=&#x27;infrequent_if_exist&#x27;,\n",
       "                                               min_frequency=0.001),\n",
       "                                 [&#x27;squad_name&#x27;, &#x27;role&#x27;, &#x27;championship&#x27;])])</pre></div></div></div><div class=\"sk-parallel\"><div class=\"sk-parallel-item\"><div class=\"sk-item\"><div class=\"sk-label-container\"><div class=\"sk-label sk-toggleable\"><input class=\"sk-toggleable__control sk-hidden--visually\" id=\"sk-estimator-id-3\" type=\"checkbox\" ><label for=\"sk-estimator-id-3\" class=\"sk-toggleable__label sk-toggleable__label-arrow\">countvectorizer</label><div class=\"sk-toggleable__content\"><pre>name_player</pre></div></div></div><div class=\"sk-serial\"><div class=\"sk-item\"><div class=\"sk-estimator sk-toggleable\"><input class=\"sk-toggleable__control sk-hidden--visually\" id=\"sk-estimator-id-4\" type=\"checkbox\" ><label for=\"sk-estimator-id-4\" class=\"sk-toggleable__label sk-toggleable__label-arrow\">CountVectorizer</label><div class=\"sk-toggleable__content\"><pre>CountVectorizer()</pre></div></div></div></div></div></div><div class=\"sk-parallel-item\"><div class=\"sk-item\"><div class=\"sk-label-container\"><div class=\"sk-label sk-toggleable\"><input class=\"sk-toggleable__control sk-hidden--visually\" id=\"sk-estimator-id-5\" type=\"checkbox\" ><label for=\"sk-estimator-id-5\" class=\"sk-toggleable__label sk-toggleable__label-arrow\">onehotencoder</label><div class=\"sk-toggleable__content\"><pre>[&#x27;squad_name&#x27;, &#x27;role&#x27;, &#x27;championship&#x27;]</pre></div></div></div><div class=\"sk-serial\"><div class=\"sk-item\"><div class=\"sk-estimator sk-toggleable\"><input class=\"sk-toggleable__control sk-hidden--visually\" id=\"sk-estimator-id-6\" type=\"checkbox\" ><label for=\"sk-estimator-id-6\" class=\"sk-toggleable__label sk-toggleable__label-arrow\">OneHotEncoder</label><div class=\"sk-toggleable__content\"><pre>OneHotEncoder(handle_unknown=&#x27;infrequent_if_exist&#x27;, min_frequency=0.001)</pre></div></div></div></div></div></div><div class=\"sk-parallel-item\"><div class=\"sk-item\"><div class=\"sk-label-container\"><div class=\"sk-label sk-toggleable\"><input class=\"sk-toggleable__control sk-hidden--visually\" id=\"sk-estimator-id-7\" type=\"checkbox\" ><label for=\"sk-estimator-id-7\" class=\"sk-toggleable__label sk-toggleable__label-arrow\">remainder</label><div class=\"sk-toggleable__content\"><pre></pre></div></div></div><div class=\"sk-serial\"><div class=\"sk-item\"><div class=\"sk-serial\"><div class=\"sk-item\"><div class=\"sk-estimator sk-toggleable\"><input class=\"sk-toggleable__control sk-hidden--visually\" id=\"sk-estimator-id-8\" type=\"checkbox\" ><label for=\"sk-estimator-id-8\" class=\"sk-toggleable__label sk-toggleable__label-arrow\">SimpleImputer</label><div class=\"sk-toggleable__content\"><pre>SimpleImputer(strategy=&#x27;median&#x27;)</pre></div></div></div><div class=\"sk-item\"><div class=\"sk-estimator sk-toggleable\"><input class=\"sk-toggleable__control sk-hidden--visually\" id=\"sk-estimator-id-9\" type=\"checkbox\" ><label for=\"sk-estimator-id-9\" class=\"sk-toggleable__label sk-toggleable__label-arrow\">StandardScaler</label><div class=\"sk-toggleable__content\"><pre>StandardScaler()</pre></div></div></div></div></div></div></div></div></div></div><div class=\"sk-item\"><div class=\"sk-estimator sk-toggleable\"><input class=\"sk-toggleable__control sk-hidden--visually\" id=\"sk-estimator-id-10\" type=\"checkbox\" ><label for=\"sk-estimator-id-10\" class=\"sk-toggleable__label sk-toggleable__label-arrow\">XGBRegressor</label><div class=\"sk-toggleable__content\"><pre>XGBRegressor(base_score=None, booster=None, callbacks=None,\n",
       "             colsample_bylevel=None, colsample_bynode=None,\n",
       "             colsample_bytree=None, early_stopping_rounds=None,\n",
       "             enable_categorical=False, eval_metric=None, gamma=None,\n",
       "             gpu_id=None, grow_policy=None, importance_type=None,\n",
       "             interaction_constraints=None, learning_rate=None, max_bin=None,\n",
       "             max_cat_to_onehot=None, max_delta_step=None, max_depth=None,\n",
       "             max_leaves=None, min_child_weight=None, missing=nan,\n",
       "             monotone_constraints=None, n_estimators=100, n_jobs=None,\n",
       "             num_parallel_tree=None, predictor=None, random_state=None,\n",
       "             reg_alpha=None, reg_lambda=None, ...)</pre></div></div></div></div></div></div></div>"
      ],
      "text/plain": [
       "Pipeline(steps=[('preprocessor',\n",
       "                 ColumnTransformer(remainder=Pipeline(steps=[('imputer',\n",
       "                                                              SimpleImputer(strategy='median')),\n",
       "                                                             ('scaler',\n",
       "                                                              StandardScaler())]),\n",
       "                                   transformers=[('countvectorizer',\n",
       "                                                  CountVectorizer(),\n",
       "                                                  'name_player'),\n",
       "                                                 ('onehotencoder',\n",
       "                                                  OneHotEncoder(handle_unknown='infrequent_if_exist',\n",
       "                                                                min_frequency=0.001),\n",
       "                                                  ['squad_name', 'role',\n",
       "                                                   'championship'])])),\n",
       "                ('c...\n",
       "                              gamma=None, gpu_id=None, grow_policy=None,\n",
       "                              importance_type=None,\n",
       "                              interaction_constraints=None, learning_rate=None,\n",
       "                              max_bin=None, max_cat_to_onehot=None,\n",
       "                              max_delta_step=None, max_depth=None,\n",
       "                              max_leaves=None, min_child_weight=None,\n",
       "                              missing=nan, monotone_constraints=None,\n",
       "                              n_estimators=100, n_jobs=None,\n",
       "                              num_parallel_tree=None, predictor=None,\n",
       "                              random_state=None, reg_alpha=None,\n",
       "                              reg_lambda=None, ...))])"
      ]
     },
     "execution_count": 9,
     "metadata": {},
     "output_type": "execute_result"
    }
   ],
   "source": [
    "clf = Pipeline(\n",
    "    steps=[(\"preprocessor\", column_trans), (\"classifier\", XGBRegressor(objective='reg:squarederror'))]\n",
    ")\n",
    "clf"
   ]
  },
  {
   "cell_type": "markdown",
   "id": "79c30f29-9619-43b8-87b2-b17fb77b3533",
   "metadata": {},
   "source": [
    "Preliminary results"
   ]
  },
  {
   "cell_type": "code",
   "execution_count": 10,
   "id": "057f29b0-6715-4ae1-90b6-dac1ac1a1bf1",
   "metadata": {},
   "outputs": [
    {
     "name": "stdout",
     "output_type": "stream",
     "text": [
      "model score: 0.735\n"
     ]
    }
   ],
   "source": [
    "X = df.drop(\"value_player\", axis=1)\n",
    "y = df.value_player\n",
    "\n",
    "X_train, X_test, y_train, y_test = train_test_split(X, y, test_size=0.2, random_state=0)\n",
    "\n",
    "clf.fit(X_train, y_train)\n",
    "print(\"model score: %.3f\" % clf.score(X_test, y_test))"
   ]
  },
  {
   "cell_type": "code",
   "execution_count": 11,
   "id": "ed070704-93f6-4eab-985b-8729a6afcc58",
   "metadata": {},
   "outputs": [
    {
     "data": {
      "text/plain": [
       "12013"
      ]
     },
     "execution_count": 11,
     "metadata": {},
     "output_type": "execute_result"
    }
   ],
   "source": [
    "len(clf.steps[0][1].get_feature_names_out())"
   ]
  },
  {
   "cell_type": "code",
   "execution_count": 12,
   "id": "78f94d6b-7f80-4999-a598-65d6d7efad7a",
   "metadata": {},
   "outputs": [
    {
     "data": {
      "text/plain": [
       "array([-0.65556625, -0.6962115 , -0.76181871, -0.74748747, -0.66949606])"
      ]
     },
     "execution_count": 12,
     "metadata": {},
     "output_type": "execute_result"
    }
   ],
   "source": [
    "scores = cross_val_score(clf, X, y)\n",
    "(-scores)"
   ]
  },
  {
   "cell_type": "markdown",
   "id": "a6070cca-6be9-4f79-be66-9e2e51b62ed3",
   "metadata": {},
   "source": [
    "## Parameter tunning\n",
    "\n",
    "We have the following parameters to adjust:"
   ]
  },
  {
   "cell_type": "code",
   "execution_count": 13,
   "id": "62019085-7f52-4abf-b900-93645f243aa6",
   "metadata": {},
   "outputs": [
    {
     "data": {
      "text/plain": [
       "{'objective': 'reg:squarederror',\n",
       " 'base_score': 0.5,\n",
       " 'booster': 'gbtree',\n",
       " 'callbacks': None,\n",
       " 'colsample_bylevel': 1,\n",
       " 'colsample_bynode': 1,\n",
       " 'colsample_bytree': 1,\n",
       " 'early_stopping_rounds': None,\n",
       " 'enable_categorical': False,\n",
       " 'eval_metric': None,\n",
       " 'gamma': 0,\n",
       " 'gpu_id': -1,\n",
       " 'grow_policy': 'depthwise',\n",
       " 'importance_type': None,\n",
       " 'interaction_constraints': '',\n",
       " 'learning_rate': 0.300000012,\n",
       " 'max_bin': 256,\n",
       " 'max_cat_to_onehot': 4,\n",
       " 'max_delta_step': 0,\n",
       " 'max_depth': 6,\n",
       " 'max_leaves': 0,\n",
       " 'min_child_weight': 1,\n",
       " 'missing': nan,\n",
       " 'monotone_constraints': '()',\n",
       " 'n_estimators': 100,\n",
       " 'n_jobs': 0,\n",
       " 'num_parallel_tree': 1,\n",
       " 'predictor': 'auto',\n",
       " 'random_state': 0,\n",
       " 'reg_alpha': 0,\n",
       " 'reg_lambda': 1,\n",
       " 'sampling_method': 'uniform',\n",
       " 'scale_pos_weight': 1,\n",
       " 'subsample': 1,\n",
       " 'tree_method': 'exact',\n",
       " 'validate_parameters': 1,\n",
       " 'verbosity': None}"
      ]
     },
     "execution_count": 13,
     "metadata": {},
     "output_type": "execute_result"
    }
   ],
   "source": [
    "clf.named_steps[\"classifier\"].get_params()"
   ]
  },
  {
   "cell_type": "code",
   "execution_count": 14,
   "id": "dcb622e8-cb08-4a0e-a525-fb2e9d69a5f8",
   "metadata": {},
   "outputs": [],
   "source": [
    "params = {\n",
    "    #\"booster\" : (\"gbtree\", \"gblinear\"),\n",
    "    \"eta\" : [0.01, 0.1],\n",
    "    \"gamma\": [0, 0.1, 0.2],\n",
    "    \"max_depth\": [5,6,7,8],\n",
    "}\n",
    "\n",
    "# Build new pipeline with cross validation (reusing all the preprocessing, since we won't be touching that\n",
    "gcv = Pipeline(\n",
    "    steps=[(\"preprocessor\", clf.named_steps[\"preprocessor\"]),\n",
    "           (\"classifier\", GridSearchCV(clf.named_steps[\"classifier\"], params))]\n",
    ")"
   ]
  },
  {
   "cell_type": "code",
   "execution_count": 15,
   "id": "398ee0a1-ac70-441c-9523-952df956a660",
   "metadata": {},
   "outputs": [
    {
     "data": {
      "text/html": [
       "<style>#sk-container-id-2 {color: black;background-color: white;}#sk-container-id-2 pre{padding: 0;}#sk-container-id-2 div.sk-toggleable {background-color: white;}#sk-container-id-2 label.sk-toggleable__label {cursor: pointer;display: block;width: 100%;margin-bottom: 0;padding: 0.3em;box-sizing: border-box;text-align: center;}#sk-container-id-2 label.sk-toggleable__label-arrow:before {content: \"▸\";float: left;margin-right: 0.25em;color: #696969;}#sk-container-id-2 label.sk-toggleable__label-arrow:hover:before {color: black;}#sk-container-id-2 div.sk-estimator:hover label.sk-toggleable__label-arrow:before {color: black;}#sk-container-id-2 div.sk-toggleable__content {max-height: 0;max-width: 0;overflow: hidden;text-align: left;background-color: #f0f8ff;}#sk-container-id-2 div.sk-toggleable__content pre {margin: 0.2em;color: black;border-radius: 0.25em;background-color: #f0f8ff;}#sk-container-id-2 input.sk-toggleable__control:checked~div.sk-toggleable__content {max-height: 200px;max-width: 100%;overflow: auto;}#sk-container-id-2 input.sk-toggleable__control:checked~label.sk-toggleable__label-arrow:before {content: \"▾\";}#sk-container-id-2 div.sk-estimator input.sk-toggleable__control:checked~label.sk-toggleable__label {background-color: #d4ebff;}#sk-container-id-2 div.sk-label input.sk-toggleable__control:checked~label.sk-toggleable__label {background-color: #d4ebff;}#sk-container-id-2 input.sk-hidden--visually {border: 0;clip: rect(1px 1px 1px 1px);clip: rect(1px, 1px, 1px, 1px);height: 1px;margin: -1px;overflow: hidden;padding: 0;position: absolute;width: 1px;}#sk-container-id-2 div.sk-estimator {font-family: monospace;background-color: #f0f8ff;border: 1px dotted black;border-radius: 0.25em;box-sizing: border-box;margin-bottom: 0.5em;}#sk-container-id-2 div.sk-estimator:hover {background-color: #d4ebff;}#sk-container-id-2 div.sk-parallel-item::after {content: \"\";width: 100%;border-bottom: 1px solid gray;flex-grow: 1;}#sk-container-id-2 div.sk-label:hover label.sk-toggleable__label {background-color: #d4ebff;}#sk-container-id-2 div.sk-serial::before {content: \"\";position: absolute;border-left: 1px solid gray;box-sizing: border-box;top: 0;bottom: 0;left: 50%;z-index: 0;}#sk-container-id-2 div.sk-serial {display: flex;flex-direction: column;align-items: center;background-color: white;padding-right: 0.2em;padding-left: 0.2em;position: relative;}#sk-container-id-2 div.sk-item {position: relative;z-index: 1;}#sk-container-id-2 div.sk-parallel {display: flex;align-items: stretch;justify-content: center;background-color: white;position: relative;}#sk-container-id-2 div.sk-item::before, #sk-container-id-2 div.sk-parallel-item::before {content: \"\";position: absolute;border-left: 1px solid gray;box-sizing: border-box;top: 0;bottom: 0;left: 50%;z-index: -1;}#sk-container-id-2 div.sk-parallel-item {display: flex;flex-direction: column;z-index: 1;position: relative;background-color: white;}#sk-container-id-2 div.sk-parallel-item:first-child::after {align-self: flex-end;width: 50%;}#sk-container-id-2 div.sk-parallel-item:last-child::after {align-self: flex-start;width: 50%;}#sk-container-id-2 div.sk-parallel-item:only-child::after {width: 0;}#sk-container-id-2 div.sk-dashed-wrapped {border: 1px dashed gray;margin: 0 0.4em 0.5em 0.4em;box-sizing: border-box;padding-bottom: 0.4em;background-color: white;}#sk-container-id-2 div.sk-label label {font-family: monospace;font-weight: bold;display: inline-block;line-height: 1.2em;}#sk-container-id-2 div.sk-label-container {text-align: center;}#sk-container-id-2 div.sk-container {/* jupyter's `normalize.less` sets `[hidden] { display: none; }` but bootstrap.min.css set `[hidden] { display: none !important; }` so we also need the `!important` here to be able to override the default hidden behavior on the sphinx rendered scikit-learn.org. See: https://github.com/scikit-learn/scikit-learn/issues/21755 */display: inline-block !important;position: relative;}#sk-container-id-2 div.sk-text-repr-fallback {display: none;}</style><div id=\"sk-container-id-2\" class=\"sk-top-container\"><div class=\"sk-text-repr-fallback\"><pre>Pipeline(steps=[(&#x27;preprocessor&#x27;,\n",
       "                 ColumnTransformer(remainder=Pipeline(steps=[(&#x27;imputer&#x27;,\n",
       "                                                              SimpleImputer(strategy=&#x27;median&#x27;)),\n",
       "                                                             (&#x27;scaler&#x27;,\n",
       "                                                              StandardScaler())]),\n",
       "                                   transformers=[(&#x27;countvectorizer&#x27;,\n",
       "                                                  CountVectorizer(),\n",
       "                                                  &#x27;name_player&#x27;),\n",
       "                                                 (&#x27;onehotencoder&#x27;,\n",
       "                                                  OneHotEncoder(handle_unknown=&#x27;infrequent_if_exist&#x27;,\n",
       "                                                                min_frequency=0.001),\n",
       "                                                  [&#x27;squad_name&#x27;, &#x27;role&#x27;,\n",
       "                                                   &#x27;championship&#x27;])])),\n",
       "                (&#x27;c...\n",
       "                                                     interaction_constraints=&#x27;&#x27;,\n",
       "                                                     learning_rate=0.300000012,\n",
       "                                                     max_bin=256,\n",
       "                                                     max_cat_to_onehot=4,\n",
       "                                                     max_delta_step=0,\n",
       "                                                     max_depth=6, max_leaves=0,\n",
       "                                                     min_child_weight=1,\n",
       "                                                     missing=nan,\n",
       "                                                     monotone_constraints=&#x27;()&#x27;,\n",
       "                                                     n_estimators=100, n_jobs=0,\n",
       "                                                     num_parallel_tree=1,\n",
       "                                                     predictor=&#x27;auto&#x27;,\n",
       "                                                     random_state=0,\n",
       "                                                     reg_alpha=0, reg_lambda=1, ...),\n",
       "                              param_grid={&#x27;eta&#x27;: [0.01, 0.1],\n",
       "                                          &#x27;gamma&#x27;: [0, 0.1, 0.2],\n",
       "                                          &#x27;max_depth&#x27;: [5, 6, 7, 8]}))])</pre><b>In a Jupyter environment, please rerun this cell to show the HTML representation or trust the notebook. <br />On GitHub, the HTML representation is unable to render, please try loading this page with nbviewer.org.</b></div><div class=\"sk-container\" hidden><div class=\"sk-item sk-dashed-wrapped\"><div class=\"sk-label-container\"><div class=\"sk-label sk-toggleable\"><input class=\"sk-toggleable__control sk-hidden--visually\" id=\"sk-estimator-id-11\" type=\"checkbox\" ><label for=\"sk-estimator-id-11\" class=\"sk-toggleable__label sk-toggleable__label-arrow\">Pipeline</label><div class=\"sk-toggleable__content\"><pre>Pipeline(steps=[(&#x27;preprocessor&#x27;,\n",
       "                 ColumnTransformer(remainder=Pipeline(steps=[(&#x27;imputer&#x27;,\n",
       "                                                              SimpleImputer(strategy=&#x27;median&#x27;)),\n",
       "                                                             (&#x27;scaler&#x27;,\n",
       "                                                              StandardScaler())]),\n",
       "                                   transformers=[(&#x27;countvectorizer&#x27;,\n",
       "                                                  CountVectorizer(),\n",
       "                                                  &#x27;name_player&#x27;),\n",
       "                                                 (&#x27;onehotencoder&#x27;,\n",
       "                                                  OneHotEncoder(handle_unknown=&#x27;infrequent_if_exist&#x27;,\n",
       "                                                                min_frequency=0.001),\n",
       "                                                  [&#x27;squad_name&#x27;, &#x27;role&#x27;,\n",
       "                                                   &#x27;championship&#x27;])])),\n",
       "                (&#x27;c...\n",
       "                                                     interaction_constraints=&#x27;&#x27;,\n",
       "                                                     learning_rate=0.300000012,\n",
       "                                                     max_bin=256,\n",
       "                                                     max_cat_to_onehot=4,\n",
       "                                                     max_delta_step=0,\n",
       "                                                     max_depth=6, max_leaves=0,\n",
       "                                                     min_child_weight=1,\n",
       "                                                     missing=nan,\n",
       "                                                     monotone_constraints=&#x27;()&#x27;,\n",
       "                                                     n_estimators=100, n_jobs=0,\n",
       "                                                     num_parallel_tree=1,\n",
       "                                                     predictor=&#x27;auto&#x27;,\n",
       "                                                     random_state=0,\n",
       "                                                     reg_alpha=0, reg_lambda=1, ...),\n",
       "                              param_grid={&#x27;eta&#x27;: [0.01, 0.1],\n",
       "                                          &#x27;gamma&#x27;: [0, 0.1, 0.2],\n",
       "                                          &#x27;max_depth&#x27;: [5, 6, 7, 8]}))])</pre></div></div></div><div class=\"sk-serial\"><div class=\"sk-item sk-dashed-wrapped\"><div class=\"sk-label-container\"><div class=\"sk-label sk-toggleable\"><input class=\"sk-toggleable__control sk-hidden--visually\" id=\"sk-estimator-id-12\" type=\"checkbox\" ><label for=\"sk-estimator-id-12\" class=\"sk-toggleable__label sk-toggleable__label-arrow\">preprocessor: ColumnTransformer</label><div class=\"sk-toggleable__content\"><pre>ColumnTransformer(remainder=Pipeline(steps=[(&#x27;imputer&#x27;,\n",
       "                                             SimpleImputer(strategy=&#x27;median&#x27;)),\n",
       "                                            (&#x27;scaler&#x27;, StandardScaler())]),\n",
       "                  transformers=[(&#x27;countvectorizer&#x27;, CountVectorizer(),\n",
       "                                 &#x27;name_player&#x27;),\n",
       "                                (&#x27;onehotencoder&#x27;,\n",
       "                                 OneHotEncoder(handle_unknown=&#x27;infrequent_if_exist&#x27;,\n",
       "                                               min_frequency=0.001),\n",
       "                                 [&#x27;squad_name&#x27;, &#x27;role&#x27;, &#x27;championship&#x27;])])</pre></div></div></div><div class=\"sk-parallel\"><div class=\"sk-parallel-item\"><div class=\"sk-item\"><div class=\"sk-label-container\"><div class=\"sk-label sk-toggleable\"><input class=\"sk-toggleable__control sk-hidden--visually\" id=\"sk-estimator-id-13\" type=\"checkbox\" ><label for=\"sk-estimator-id-13\" class=\"sk-toggleable__label sk-toggleable__label-arrow\">countvectorizer</label><div class=\"sk-toggleable__content\"><pre>name_player</pre></div></div></div><div class=\"sk-serial\"><div class=\"sk-item\"><div class=\"sk-estimator sk-toggleable\"><input class=\"sk-toggleable__control sk-hidden--visually\" id=\"sk-estimator-id-14\" type=\"checkbox\" ><label for=\"sk-estimator-id-14\" class=\"sk-toggleable__label sk-toggleable__label-arrow\">CountVectorizer</label><div class=\"sk-toggleable__content\"><pre>CountVectorizer()</pre></div></div></div></div></div></div><div class=\"sk-parallel-item\"><div class=\"sk-item\"><div class=\"sk-label-container\"><div class=\"sk-label sk-toggleable\"><input class=\"sk-toggleable__control sk-hidden--visually\" id=\"sk-estimator-id-15\" type=\"checkbox\" ><label for=\"sk-estimator-id-15\" class=\"sk-toggleable__label sk-toggleable__label-arrow\">onehotencoder</label><div class=\"sk-toggleable__content\"><pre>[&#x27;squad_name&#x27;, &#x27;role&#x27;, &#x27;championship&#x27;]</pre></div></div></div><div class=\"sk-serial\"><div class=\"sk-item\"><div class=\"sk-estimator sk-toggleable\"><input class=\"sk-toggleable__control sk-hidden--visually\" id=\"sk-estimator-id-16\" type=\"checkbox\" ><label for=\"sk-estimator-id-16\" class=\"sk-toggleable__label sk-toggleable__label-arrow\">OneHotEncoder</label><div class=\"sk-toggleable__content\"><pre>OneHotEncoder(handle_unknown=&#x27;infrequent_if_exist&#x27;, min_frequency=0.001)</pre></div></div></div></div></div></div><div class=\"sk-parallel-item\"><div class=\"sk-item\"><div class=\"sk-label-container\"><div class=\"sk-label sk-toggleable\"><input class=\"sk-toggleable__control sk-hidden--visually\" id=\"sk-estimator-id-17\" type=\"checkbox\" ><label for=\"sk-estimator-id-17\" class=\"sk-toggleable__label sk-toggleable__label-arrow\">remainder</label><div class=\"sk-toggleable__content\"><pre>[&#x27;age&#x27;, &#x27;year&#x27;, &#x27;games_played&#x27;, &#x27;goals&#x27;, &#x27;assists&#x27;, &#x27;minute_played&#x27;, &#x27;goals_conceded&#x27;, &#x27;clean_sheets&#x27;, &#x27;avg_age&#x27;, &#x27;squad_value&#x27;, &#x27;number_players&#x27;]</pre></div></div></div><div class=\"sk-serial\"><div class=\"sk-item\"><div class=\"sk-serial\"><div class=\"sk-item\"><div class=\"sk-estimator sk-toggleable\"><input class=\"sk-toggleable__control sk-hidden--visually\" id=\"sk-estimator-id-18\" type=\"checkbox\" ><label for=\"sk-estimator-id-18\" class=\"sk-toggleable__label sk-toggleable__label-arrow\">SimpleImputer</label><div class=\"sk-toggleable__content\"><pre>SimpleImputer(strategy=&#x27;median&#x27;)</pre></div></div></div><div class=\"sk-item\"><div class=\"sk-estimator sk-toggleable\"><input class=\"sk-toggleable__control sk-hidden--visually\" id=\"sk-estimator-id-19\" type=\"checkbox\" ><label for=\"sk-estimator-id-19\" class=\"sk-toggleable__label sk-toggleable__label-arrow\">StandardScaler</label><div class=\"sk-toggleable__content\"><pre>StandardScaler()</pre></div></div></div></div></div></div></div></div></div></div><div class=\"sk-item sk-dashed-wrapped\"><div class=\"sk-label-container\"><div class=\"sk-label sk-toggleable\"><input class=\"sk-toggleable__control sk-hidden--visually\" id=\"sk-estimator-id-20\" type=\"checkbox\" ><label for=\"sk-estimator-id-20\" class=\"sk-toggleable__label sk-toggleable__label-arrow\">classifier: GridSearchCV</label><div class=\"sk-toggleable__content\"><pre>GridSearchCV(estimator=XGBRegressor(base_score=0.5, booster=&#x27;gbtree&#x27;,\n",
       "                                    callbacks=None, colsample_bylevel=1,\n",
       "                                    colsample_bynode=1, colsample_bytree=1,\n",
       "                                    early_stopping_rounds=None,\n",
       "                                    enable_categorical=False, eval_metric=None,\n",
       "                                    gamma=0, gpu_id=-1, grow_policy=&#x27;depthwise&#x27;,\n",
       "                                    importance_type=None,\n",
       "                                    interaction_constraints=&#x27;&#x27;,\n",
       "                                    learning_rate=0.300000012, max_bin=256,\n",
       "                                    max_cat_to_onehot=4, max_delta_step=0,\n",
       "                                    max_depth=6, max_leaves=0,\n",
       "                                    min_child_weight=1, missing=nan,\n",
       "                                    monotone_constraints=&#x27;()&#x27;, n_estimators=100,\n",
       "                                    n_jobs=0, num_parallel_tree=1,\n",
       "                                    predictor=&#x27;auto&#x27;, random_state=0,\n",
       "                                    reg_alpha=0, reg_lambda=1, ...),\n",
       "             param_grid={&#x27;eta&#x27;: [0.01, 0.1], &#x27;gamma&#x27;: [0, 0.1, 0.2],\n",
       "                         &#x27;max_depth&#x27;: [5, 6, 7, 8]})</pre></div></div></div><div class=\"sk-parallel\"><div class=\"sk-parallel-item\"><div class=\"sk-item\"><div class=\"sk-label-container\"><div class=\"sk-label sk-toggleable\"><input class=\"sk-toggleable__control sk-hidden--visually\" id=\"sk-estimator-id-21\" type=\"checkbox\" ><label for=\"sk-estimator-id-21\" class=\"sk-toggleable__label sk-toggleable__label-arrow\">estimator: XGBRegressor</label><div class=\"sk-toggleable__content\"><pre>XGBRegressor(base_score=0.5, booster=&#x27;gbtree&#x27;, callbacks=None,\n",
       "             colsample_bylevel=1, colsample_bynode=1, colsample_bytree=1,\n",
       "             early_stopping_rounds=None, enable_categorical=False,\n",
       "             eval_metric=None, gamma=0, gpu_id=-1, grow_policy=&#x27;depthwise&#x27;,\n",
       "             importance_type=None, interaction_constraints=&#x27;&#x27;,\n",
       "             learning_rate=0.300000012, max_bin=256, max_cat_to_onehot=4,\n",
       "             max_delta_step=0, max_depth=6, max_leaves=0, min_child_weight=1,\n",
       "             missing=nan, monotone_constraints=&#x27;()&#x27;, n_estimators=100, n_jobs=0,\n",
       "             num_parallel_tree=1, predictor=&#x27;auto&#x27;, random_state=0, reg_alpha=0,\n",
       "             reg_lambda=1, ...)</pre></div></div></div><div class=\"sk-serial\"><div class=\"sk-item\"><div class=\"sk-estimator sk-toggleable\"><input class=\"sk-toggleable__control sk-hidden--visually\" id=\"sk-estimator-id-22\" type=\"checkbox\" ><label for=\"sk-estimator-id-22\" class=\"sk-toggleable__label sk-toggleable__label-arrow\">XGBRegressor</label><div class=\"sk-toggleable__content\"><pre>XGBRegressor(base_score=0.5, booster=&#x27;gbtree&#x27;, callbacks=None,\n",
       "             colsample_bylevel=1, colsample_bynode=1, colsample_bytree=1,\n",
       "             early_stopping_rounds=None, enable_categorical=False,\n",
       "             eval_metric=None, gamma=0, gpu_id=-1, grow_policy=&#x27;depthwise&#x27;,\n",
       "             importance_type=None, interaction_constraints=&#x27;&#x27;,\n",
       "             learning_rate=0.300000012, max_bin=256, max_cat_to_onehot=4,\n",
       "             max_delta_step=0, max_depth=6, max_leaves=0, min_child_weight=1,\n",
       "             missing=nan, monotone_constraints=&#x27;()&#x27;, n_estimators=100, n_jobs=0,\n",
       "             num_parallel_tree=1, predictor=&#x27;auto&#x27;, random_state=0, reg_alpha=0,\n",
       "             reg_lambda=1, ...)</pre></div></div></div></div></div></div></div></div></div></div></div></div>"
      ],
      "text/plain": [
       "Pipeline(steps=[('preprocessor',\n",
       "                 ColumnTransformer(remainder=Pipeline(steps=[('imputer',\n",
       "                                                              SimpleImputer(strategy='median')),\n",
       "                                                             ('scaler',\n",
       "                                                              StandardScaler())]),\n",
       "                                   transformers=[('countvectorizer',\n",
       "                                                  CountVectorizer(),\n",
       "                                                  'name_player'),\n",
       "                                                 ('onehotencoder',\n",
       "                                                  OneHotEncoder(handle_unknown='infrequent_if_exist',\n",
       "                                                                min_frequency=0.001),\n",
       "                                                  ['squad_name', 'role',\n",
       "                                                   'championship'])])),\n",
       "                ('c...\n",
       "                                                     interaction_constraints='',\n",
       "                                                     learning_rate=0.300000012,\n",
       "                                                     max_bin=256,\n",
       "                                                     max_cat_to_onehot=4,\n",
       "                                                     max_delta_step=0,\n",
       "                                                     max_depth=6, max_leaves=0,\n",
       "                                                     min_child_weight=1,\n",
       "                                                     missing=nan,\n",
       "                                                     monotone_constraints='()',\n",
       "                                                     n_estimators=100, n_jobs=0,\n",
       "                                                     num_parallel_tree=1,\n",
       "                                                     predictor='auto',\n",
       "                                                     random_state=0,\n",
       "                                                     reg_alpha=0, reg_lambda=1, ...),\n",
       "                              param_grid={'eta': [0.01, 0.1],\n",
       "                                          'gamma': [0, 0.1, 0.2],\n",
       "                                          'max_depth': [5, 6, 7, 8]}))])"
      ]
     },
     "execution_count": 15,
     "metadata": {},
     "output_type": "execute_result"
    }
   ],
   "source": [
    "gcv.fit(X_train, y_train)"
   ]
  },
  {
   "cell_type": "code",
   "execution_count": 16,
   "id": "635ee760-26ce-482c-a277-892c94288d04",
   "metadata": {},
   "outputs": [
    {
     "data": {
      "text/plain": [
       "({'eta': 0.01, 'gamma': 0, 'max_depth': 7}, 0.7442533147721287)"
      ]
     },
     "execution_count": 16,
     "metadata": {},
     "output_type": "execute_result"
    }
   ],
   "source": [
    "gcv.named_steps[\"classifier\"].best_params_, gcv.named_steps[\"classifier\"].best_score_"
   ]
  },
  {
   "cell_type": "code",
   "execution_count": 17,
   "id": "a75f8be5-b847-4ecc-991b-5ead22efc30d",
   "metadata": {},
   "outputs": [
    {
     "data": {
      "text/plain": [
       "{'mean_fit_time': array([4.71344328, 4.45599561, 5.23437905, 7.00824494, 3.64202986,\n",
       "        4.6046905 , 5.89721642, 5.234971  , 3.37889042, 3.54351912,\n",
       "        3.43980284, 3.86026816, 3.20606956, 3.83710337, 6.97791309,\n",
       "        5.94163828, 3.53684964, 5.28222346, 5.29329681, 7.71366096,\n",
       "        4.20265994, 4.66856952, 5.16825953, 6.43141289]),\n",
       " 'std_fit_time': array([1.71907683, 0.66331488, 1.94891238, 3.66884875, 0.87582799,\n",
       "        2.05971788, 1.96154287, 0.85070992, 0.1256279 , 0.74498654,\n",
       "        0.09861167, 0.05399831, 0.85381461, 0.85589599, 3.71864093,\n",
       "        1.31207937, 0.46847237, 2.89107275, 2.1314303 , 3.64609498,\n",
       "        0.55690922, 0.34946606, 0.64235136, 0.5676801 ]),\n",
       " 'mean_score_time': array([0.01112328, 0.01797471, 0.01304002, 0.01545706, 0.00889211,\n",
       "        0.01716814, 0.02010226, 0.0139617 , 0.01580725, 0.01066298,\n",
       "        0.01161904, 0.01621323, 0.00891542, 0.01004415, 0.01264582,\n",
       "        0.01181884, 0.0133173 , 0.02061753, 0.01188121, 0.01892614,\n",
       "        0.01313725, 0.01706958, 0.01238022, 0.01886086]),\n",
       " 'std_score_time': array([0.00187272, 0.01337323, 0.00283332, 0.00598246, 0.00101547,\n",
       "        0.00676497, 0.01811574, 0.00191425, 0.0068562 , 0.00108132,\n",
       "        0.00210342, 0.00528647, 0.00105779, 0.00141811, 0.00313236,\n",
       "        0.00114923, 0.00584949, 0.01752411, 0.00136549, 0.0087787 ,\n",
       "        0.00583694, 0.00762393, 0.00106585, 0.00467331]),\n",
       " 'param_eta': masked_array(data=[0.01, 0.01, 0.01, 0.01, 0.01, 0.01, 0.01, 0.01, 0.01,\n",
       "                    0.01, 0.01, 0.01, 0.1, 0.1, 0.1, 0.1, 0.1, 0.1, 0.1,\n",
       "                    0.1, 0.1, 0.1, 0.1, 0.1],\n",
       "              mask=[False, False, False, False, False, False, False, False,\n",
       "                    False, False, False, False, False, False, False, False,\n",
       "                    False, False, False, False, False, False, False, False],\n",
       "        fill_value='?',\n",
       "             dtype=object),\n",
       " 'param_gamma': masked_array(data=[0, 0, 0, 0, 0.1, 0.1, 0.1, 0.1, 0.2, 0.2, 0.2, 0.2, 0,\n",
       "                    0, 0, 0, 0.1, 0.1, 0.1, 0.1, 0.2, 0.2, 0.2, 0.2],\n",
       "              mask=[False, False, False, False, False, False, False, False,\n",
       "                    False, False, False, False, False, False, False, False,\n",
       "                    False, False, False, False, False, False, False, False],\n",
       "        fill_value='?',\n",
       "             dtype=object),\n",
       " 'param_max_depth': masked_array(data=[5, 6, 7, 8, 5, 6, 7, 8, 5, 6, 7, 8, 5, 6, 7, 8, 5, 6,\n",
       "                    7, 8, 5, 6, 7, 8],\n",
       "              mask=[False, False, False, False, False, False, False, False,\n",
       "                    False, False, False, False, False, False, False, False,\n",
       "                    False, False, False, False, False, False, False, False],\n",
       "        fill_value='?',\n",
       "             dtype=object),\n",
       " 'params': [{'eta': 0.01, 'gamma': 0, 'max_depth': 5},\n",
       "  {'eta': 0.01, 'gamma': 0, 'max_depth': 6},\n",
       "  {'eta': 0.01, 'gamma': 0, 'max_depth': 7},\n",
       "  {'eta': 0.01, 'gamma': 0, 'max_depth': 8},\n",
       "  {'eta': 0.01, 'gamma': 0.1, 'max_depth': 5},\n",
       "  {'eta': 0.01, 'gamma': 0.1, 'max_depth': 6},\n",
       "  {'eta': 0.01, 'gamma': 0.1, 'max_depth': 7},\n",
       "  {'eta': 0.01, 'gamma': 0.1, 'max_depth': 8},\n",
       "  {'eta': 0.01, 'gamma': 0.2, 'max_depth': 5},\n",
       "  {'eta': 0.01, 'gamma': 0.2, 'max_depth': 6},\n",
       "  {'eta': 0.01, 'gamma': 0.2, 'max_depth': 7},\n",
       "  {'eta': 0.01, 'gamma': 0.2, 'max_depth': 8},\n",
       "  {'eta': 0.1, 'gamma': 0, 'max_depth': 5},\n",
       "  {'eta': 0.1, 'gamma': 0, 'max_depth': 6},\n",
       "  {'eta': 0.1, 'gamma': 0, 'max_depth': 7},\n",
       "  {'eta': 0.1, 'gamma': 0, 'max_depth': 8},\n",
       "  {'eta': 0.1, 'gamma': 0.1, 'max_depth': 5},\n",
       "  {'eta': 0.1, 'gamma': 0.1, 'max_depth': 6},\n",
       "  {'eta': 0.1, 'gamma': 0.1, 'max_depth': 7},\n",
       "  {'eta': 0.1, 'gamma': 0.1, 'max_depth': 8},\n",
       "  {'eta': 0.1, 'gamma': 0.2, 'max_depth': 5},\n",
       "  {'eta': 0.1, 'gamma': 0.2, 'max_depth': 6},\n",
       "  {'eta': 0.1, 'gamma': 0.2, 'max_depth': 7},\n",
       "  {'eta': 0.1, 'gamma': 0.2, 'max_depth': 8}],\n",
       " 'split0_test_score': array([0.72255683, 0.7261275 , 0.73032084, 0.72439604, 0.72255683,\n",
       "        0.7261275 , 0.73032084, 0.72439604, 0.72255683, 0.7261275 ,\n",
       "        0.73032084, 0.72439604, 0.72255683, 0.7261275 , 0.73032084,\n",
       "        0.72439604, 0.72255683, 0.7261275 , 0.73032084, 0.72439604,\n",
       "        0.72255683, 0.7261275 , 0.73032084, 0.72439604]),\n",
       " 'split1_test_score': array([0.73431514, 0.72924996, 0.73215591, 0.73641646, 0.73431514,\n",
       "        0.72924996, 0.73215591, 0.73641646, 0.73431514, 0.72924996,\n",
       "        0.73215591, 0.73641646, 0.73431514, 0.72924996, 0.73215591,\n",
       "        0.73641646, 0.73431514, 0.72924996, 0.73215591, 0.73641646,\n",
       "        0.73431514, 0.72924996, 0.73215591, 0.73641646]),\n",
       " 'split2_test_score': array([0.75557039, 0.76520584, 0.7689357 , 0.75981337, 0.75557039,\n",
       "        0.76520584, 0.7689357 , 0.75981337, 0.75557039, 0.76520584,\n",
       "        0.7689357 , 0.75981337, 0.75557039, 0.76520584, 0.7689357 ,\n",
       "        0.75981337, 0.75557039, 0.76520584, 0.7689357 , 0.75981337,\n",
       "        0.75557039, 0.76520584, 0.7689357 , 0.75981337]),\n",
       " 'split3_test_score': array([0.7493356 , 0.75070497, 0.75168373, 0.76084612, 0.7493356 ,\n",
       "        0.75070497, 0.75168373, 0.76084612, 0.7493356 , 0.75070497,\n",
       "        0.75168373, 0.76084612, 0.7493356 , 0.75070497, 0.75168373,\n",
       "        0.76084612, 0.7493356 , 0.75070497, 0.75168373, 0.76084612,\n",
       "        0.7493356 , 0.75070497, 0.75168373, 0.76084612]),\n",
       " 'split4_test_score': array([0.722159  , 0.72980906, 0.73817039, 0.7227033 , 0.722159  ,\n",
       "        0.72980906, 0.73817039, 0.7227033 , 0.722159  , 0.72980906,\n",
       "        0.73817039, 0.7227033 , 0.722159  , 0.72980906, 0.73817039,\n",
       "        0.7227033 , 0.722159  , 0.72980906, 0.73817039, 0.7227033 ,\n",
       "        0.722159  , 0.72980906, 0.73817039, 0.7227033 ]),\n",
       " 'mean_test_score': array([0.73678739, 0.74021947, 0.74425331, 0.74083506, 0.73678739,\n",
       "        0.74021947, 0.74425331, 0.74083506, 0.73678739, 0.74021947,\n",
       "        0.74425331, 0.74083506, 0.73678739, 0.74021947, 0.74425331,\n",
       "        0.74083506, 0.73678739, 0.74021947, 0.74425331, 0.74083506,\n",
       "        0.73678739, 0.74021947, 0.74425331, 0.74083506]),\n",
       " 'std_test_score': array([0.01365921, 0.01524175, 0.01443533, 0.0166081 , 0.01365921,\n",
       "        0.01524175, 0.01443533, 0.0166081 , 0.01365921, 0.01524175,\n",
       "        0.01443533, 0.0166081 , 0.01365921, 0.01524175, 0.01443533,\n",
       "        0.0166081 , 0.01365921, 0.01524175, 0.01443533, 0.0166081 ,\n",
       "        0.01365921, 0.01524175, 0.01443533, 0.0166081 ]),\n",
       " 'rank_test_score': array([19, 13,  1,  7, 19, 13,  1,  7, 19, 13,  1,  7, 19, 13,  1,  7, 19,\n",
       "        13,  1,  7, 19, 13,  1,  7], dtype=int32)}"
      ]
     },
     "execution_count": 17,
     "metadata": {},
     "output_type": "execute_result"
    }
   ],
   "source": [
    "gcv.named_steps[\"classifier\"].cv_results_"
   ]
  },
  {
   "cell_type": "code",
   "execution_count": 18,
   "id": "c8cfe22d-3f7b-487e-95fc-3fb0c22d74d3",
   "metadata": {},
   "outputs": [
    {
     "data": {
      "text/plain": [
       "5289734.5"
      ]
     },
     "execution_count": 18,
     "metadata": {},
     "output_type": "execute_result"
    }
   ],
   "source": [
    "player_data = dict(X_test.iloc[0,:])\n",
    "\n",
    "gcv.predict(\n",
    "pd.DataFrame.from_dict({k: [v] for k, v in player_data.items()})\n",
    ")[0]"
   ]
  },
  {
   "cell_type": "code",
   "execution_count": 19,
   "id": "cf36cec3-7327-4a56-a2de-332090823b8a",
   "metadata": {},
   "outputs": [
    {
     "data": {
      "text/plain": [
       "{'name_player': 'Aritz Aduriz',\n",
       " 'age': 32,\n",
       " 'role': 'Centre-Forward',\n",
       " 'squad_name': 'Athletic Bilbao',\n",
       " 'year': 2013,\n",
       " 'games_played': 36,\n",
       " 'goals': 18.0,\n",
       " 'assists': 9.0,\n",
       " 'minute_played': 2693,\n",
       " 'championship': 'primera-division',\n",
       " 'goals_conceded': nan,\n",
       " 'clean_sheets': nan,\n",
       " 'avg_age': 25.8,\n",
       " 'squad_value': 130699999,\n",
       " 'number_players': 27}"
      ]
     },
     "execution_count": 19,
     "metadata": {},
     "output_type": "execute_result"
    }
   ],
   "source": [
    "dict(X_test.iloc[0,:])"
   ]
  },
  {
   "cell_type": "code",
   "execution_count": 20,
   "id": "96d78abf-fac3-4d35-944d-c2a6ace4367a",
   "metadata": {},
   "outputs": [
    {
     "data": {
      "text/plain": [
       "3500000"
      ]
     },
     "execution_count": 20,
     "metadata": {},
     "output_type": "execute_result"
    }
   ],
   "source": [
    "y_test.iloc[0]"
   ]
  },
  {
   "cell_type": "code",
   "execution_count": 21,
   "id": "74f69d59-609d-4b39-b251-23878a4d0642",
   "metadata": {},
   "outputs": [
    {
     "data": {
      "text/plain": [
       "0.7342334958380897"
      ]
     },
     "execution_count": 21,
     "metadata": {},
     "output_type": "execute_result"
    }
   ],
   "source": [
    "gcv.score(X_test, y_test)"
   ]
  },
  {
   "cell_type": "code",
   "execution_count": 22,
   "id": "883d5bdb-69a3-46ff-bfa2-c092e895e497",
   "metadata": {},
   "outputs": [
    {
     "data": {
      "text/html": [
       "<style>#sk-container-id-3 {color: black;background-color: white;}#sk-container-id-3 pre{padding: 0;}#sk-container-id-3 div.sk-toggleable {background-color: white;}#sk-container-id-3 label.sk-toggleable__label {cursor: pointer;display: block;width: 100%;margin-bottom: 0;padding: 0.3em;box-sizing: border-box;text-align: center;}#sk-container-id-3 label.sk-toggleable__label-arrow:before {content: \"▸\";float: left;margin-right: 0.25em;color: #696969;}#sk-container-id-3 label.sk-toggleable__label-arrow:hover:before {color: black;}#sk-container-id-3 div.sk-estimator:hover label.sk-toggleable__label-arrow:before {color: black;}#sk-container-id-3 div.sk-toggleable__content {max-height: 0;max-width: 0;overflow: hidden;text-align: left;background-color: #f0f8ff;}#sk-container-id-3 div.sk-toggleable__content pre {margin: 0.2em;color: black;border-radius: 0.25em;background-color: #f0f8ff;}#sk-container-id-3 input.sk-toggleable__control:checked~div.sk-toggleable__content {max-height: 200px;max-width: 100%;overflow: auto;}#sk-container-id-3 input.sk-toggleable__control:checked~label.sk-toggleable__label-arrow:before {content: \"▾\";}#sk-container-id-3 div.sk-estimator input.sk-toggleable__control:checked~label.sk-toggleable__label {background-color: #d4ebff;}#sk-container-id-3 div.sk-label input.sk-toggleable__control:checked~label.sk-toggleable__label {background-color: #d4ebff;}#sk-container-id-3 input.sk-hidden--visually {border: 0;clip: rect(1px 1px 1px 1px);clip: rect(1px, 1px, 1px, 1px);height: 1px;margin: -1px;overflow: hidden;padding: 0;position: absolute;width: 1px;}#sk-container-id-3 div.sk-estimator {font-family: monospace;background-color: #f0f8ff;border: 1px dotted black;border-radius: 0.25em;box-sizing: border-box;margin-bottom: 0.5em;}#sk-container-id-3 div.sk-estimator:hover {background-color: #d4ebff;}#sk-container-id-3 div.sk-parallel-item::after {content: \"\";width: 100%;border-bottom: 1px solid gray;flex-grow: 1;}#sk-container-id-3 div.sk-label:hover label.sk-toggleable__label {background-color: #d4ebff;}#sk-container-id-3 div.sk-serial::before {content: \"\";position: absolute;border-left: 1px solid gray;box-sizing: border-box;top: 0;bottom: 0;left: 50%;z-index: 0;}#sk-container-id-3 div.sk-serial {display: flex;flex-direction: column;align-items: center;background-color: white;padding-right: 0.2em;padding-left: 0.2em;position: relative;}#sk-container-id-3 div.sk-item {position: relative;z-index: 1;}#sk-container-id-3 div.sk-parallel {display: flex;align-items: stretch;justify-content: center;background-color: white;position: relative;}#sk-container-id-3 div.sk-item::before, #sk-container-id-3 div.sk-parallel-item::before {content: \"\";position: absolute;border-left: 1px solid gray;box-sizing: border-box;top: 0;bottom: 0;left: 50%;z-index: -1;}#sk-container-id-3 div.sk-parallel-item {display: flex;flex-direction: column;z-index: 1;position: relative;background-color: white;}#sk-container-id-3 div.sk-parallel-item:first-child::after {align-self: flex-end;width: 50%;}#sk-container-id-3 div.sk-parallel-item:last-child::after {align-self: flex-start;width: 50%;}#sk-container-id-3 div.sk-parallel-item:only-child::after {width: 0;}#sk-container-id-3 div.sk-dashed-wrapped {border: 1px dashed gray;margin: 0 0.4em 0.5em 0.4em;box-sizing: border-box;padding-bottom: 0.4em;background-color: white;}#sk-container-id-3 div.sk-label label {font-family: monospace;font-weight: bold;display: inline-block;line-height: 1.2em;}#sk-container-id-3 div.sk-label-container {text-align: center;}#sk-container-id-3 div.sk-container {/* jupyter's `normalize.less` sets `[hidden] { display: none; }` but bootstrap.min.css set `[hidden] { display: none !important; }` so we also need the `!important` here to be able to override the default hidden behavior on the sphinx rendered scikit-learn.org. See: https://github.com/scikit-learn/scikit-learn/issues/21755 */display: inline-block !important;position: relative;}#sk-container-id-3 div.sk-text-repr-fallback {display: none;}</style><div id=\"sk-container-id-3\" class=\"sk-top-container\"><div class=\"sk-text-repr-fallback\"><pre>Pipeline(steps=[(&#x27;preprocessor&#x27;,\n",
       "                 ColumnTransformer(remainder=Pipeline(steps=[(&#x27;imputer&#x27;,\n",
       "                                                              SimpleImputer(strategy=&#x27;median&#x27;)),\n",
       "                                                             (&#x27;scaler&#x27;,\n",
       "                                                              StandardScaler())]),\n",
       "                                   transformers=[(&#x27;countvectorizer&#x27;,\n",
       "                                                  CountVectorizer(),\n",
       "                                                  &#x27;name_player&#x27;),\n",
       "                                                 (&#x27;onehotencoder&#x27;,\n",
       "                                                  OneHotEncoder(handle_unknown=&#x27;infrequent_if_exist&#x27;,\n",
       "                                                                min_frequency=0.001),\n",
       "                                                  [&#x27;squad_name&#x27;, &#x27;role&#x27;,\n",
       "                                                   &#x27;championship&#x27;])])),\n",
       "                (&#x27;c...\n",
       "                                                     interaction_constraints=&#x27;&#x27;,\n",
       "                                                     learning_rate=0.300000012,\n",
       "                                                     max_bin=256,\n",
       "                                                     max_cat_to_onehot=4,\n",
       "                                                     max_delta_step=0,\n",
       "                                                     max_depth=6, max_leaves=0,\n",
       "                                                     min_child_weight=1,\n",
       "                                                     missing=nan,\n",
       "                                                     monotone_constraints=&#x27;()&#x27;,\n",
       "                                                     n_estimators=100, n_jobs=0,\n",
       "                                                     num_parallel_tree=1,\n",
       "                                                     predictor=&#x27;auto&#x27;,\n",
       "                                                     random_state=0,\n",
       "                                                     reg_alpha=0, reg_lambda=1, ...),\n",
       "                              param_grid={&#x27;eta&#x27;: [0.01, 0.1],\n",
       "                                          &#x27;gamma&#x27;: [0, 0.1, 0.2],\n",
       "                                          &#x27;max_depth&#x27;: [5, 6, 7, 8]}))])</pre><b>In a Jupyter environment, please rerun this cell to show the HTML representation or trust the notebook. <br />On GitHub, the HTML representation is unable to render, please try loading this page with nbviewer.org.</b></div><div class=\"sk-container\" hidden><div class=\"sk-item sk-dashed-wrapped\"><div class=\"sk-label-container\"><div class=\"sk-label sk-toggleable\"><input class=\"sk-toggleable__control sk-hidden--visually\" id=\"sk-estimator-id-23\" type=\"checkbox\" ><label for=\"sk-estimator-id-23\" class=\"sk-toggleable__label sk-toggleable__label-arrow\">Pipeline</label><div class=\"sk-toggleable__content\"><pre>Pipeline(steps=[(&#x27;preprocessor&#x27;,\n",
       "                 ColumnTransformer(remainder=Pipeline(steps=[(&#x27;imputer&#x27;,\n",
       "                                                              SimpleImputer(strategy=&#x27;median&#x27;)),\n",
       "                                                             (&#x27;scaler&#x27;,\n",
       "                                                              StandardScaler())]),\n",
       "                                   transformers=[(&#x27;countvectorizer&#x27;,\n",
       "                                                  CountVectorizer(),\n",
       "                                                  &#x27;name_player&#x27;),\n",
       "                                                 (&#x27;onehotencoder&#x27;,\n",
       "                                                  OneHotEncoder(handle_unknown=&#x27;infrequent_if_exist&#x27;,\n",
       "                                                                min_frequency=0.001),\n",
       "                                                  [&#x27;squad_name&#x27;, &#x27;role&#x27;,\n",
       "                                                   &#x27;championship&#x27;])])),\n",
       "                (&#x27;c...\n",
       "                                                     interaction_constraints=&#x27;&#x27;,\n",
       "                                                     learning_rate=0.300000012,\n",
       "                                                     max_bin=256,\n",
       "                                                     max_cat_to_onehot=4,\n",
       "                                                     max_delta_step=0,\n",
       "                                                     max_depth=6, max_leaves=0,\n",
       "                                                     min_child_weight=1,\n",
       "                                                     missing=nan,\n",
       "                                                     monotone_constraints=&#x27;()&#x27;,\n",
       "                                                     n_estimators=100, n_jobs=0,\n",
       "                                                     num_parallel_tree=1,\n",
       "                                                     predictor=&#x27;auto&#x27;,\n",
       "                                                     random_state=0,\n",
       "                                                     reg_alpha=0, reg_lambda=1, ...),\n",
       "                              param_grid={&#x27;eta&#x27;: [0.01, 0.1],\n",
       "                                          &#x27;gamma&#x27;: [0, 0.1, 0.2],\n",
       "                                          &#x27;max_depth&#x27;: [5, 6, 7, 8]}))])</pre></div></div></div><div class=\"sk-serial\"><div class=\"sk-item sk-dashed-wrapped\"><div class=\"sk-label-container\"><div class=\"sk-label sk-toggleable\"><input class=\"sk-toggleable__control sk-hidden--visually\" id=\"sk-estimator-id-24\" type=\"checkbox\" ><label for=\"sk-estimator-id-24\" class=\"sk-toggleable__label sk-toggleable__label-arrow\">preprocessor: ColumnTransformer</label><div class=\"sk-toggleable__content\"><pre>ColumnTransformer(remainder=Pipeline(steps=[(&#x27;imputer&#x27;,\n",
       "                                             SimpleImputer(strategy=&#x27;median&#x27;)),\n",
       "                                            (&#x27;scaler&#x27;, StandardScaler())]),\n",
       "                  transformers=[(&#x27;countvectorizer&#x27;, CountVectorizer(),\n",
       "                                 &#x27;name_player&#x27;),\n",
       "                                (&#x27;onehotencoder&#x27;,\n",
       "                                 OneHotEncoder(handle_unknown=&#x27;infrequent_if_exist&#x27;,\n",
       "                                               min_frequency=0.001),\n",
       "                                 [&#x27;squad_name&#x27;, &#x27;role&#x27;, &#x27;championship&#x27;])])</pre></div></div></div><div class=\"sk-parallel\"><div class=\"sk-parallel-item\"><div class=\"sk-item\"><div class=\"sk-label-container\"><div class=\"sk-label sk-toggleable\"><input class=\"sk-toggleable__control sk-hidden--visually\" id=\"sk-estimator-id-25\" type=\"checkbox\" ><label for=\"sk-estimator-id-25\" class=\"sk-toggleable__label sk-toggleable__label-arrow\">countvectorizer</label><div class=\"sk-toggleable__content\"><pre>name_player</pre></div></div></div><div class=\"sk-serial\"><div class=\"sk-item\"><div class=\"sk-estimator sk-toggleable\"><input class=\"sk-toggleable__control sk-hidden--visually\" id=\"sk-estimator-id-26\" type=\"checkbox\" ><label for=\"sk-estimator-id-26\" class=\"sk-toggleable__label sk-toggleable__label-arrow\">CountVectorizer</label><div class=\"sk-toggleable__content\"><pre>CountVectorizer()</pre></div></div></div></div></div></div><div class=\"sk-parallel-item\"><div class=\"sk-item\"><div class=\"sk-label-container\"><div class=\"sk-label sk-toggleable\"><input class=\"sk-toggleable__control sk-hidden--visually\" id=\"sk-estimator-id-27\" type=\"checkbox\" ><label for=\"sk-estimator-id-27\" class=\"sk-toggleable__label sk-toggleable__label-arrow\">onehotencoder</label><div class=\"sk-toggleable__content\"><pre>[&#x27;squad_name&#x27;, &#x27;role&#x27;, &#x27;championship&#x27;]</pre></div></div></div><div class=\"sk-serial\"><div class=\"sk-item\"><div class=\"sk-estimator sk-toggleable\"><input class=\"sk-toggleable__control sk-hidden--visually\" id=\"sk-estimator-id-28\" type=\"checkbox\" ><label for=\"sk-estimator-id-28\" class=\"sk-toggleable__label sk-toggleable__label-arrow\">OneHotEncoder</label><div class=\"sk-toggleable__content\"><pre>OneHotEncoder(handle_unknown=&#x27;infrequent_if_exist&#x27;, min_frequency=0.001)</pre></div></div></div></div></div></div><div class=\"sk-parallel-item\"><div class=\"sk-item\"><div class=\"sk-label-container\"><div class=\"sk-label sk-toggleable\"><input class=\"sk-toggleable__control sk-hidden--visually\" id=\"sk-estimator-id-29\" type=\"checkbox\" ><label for=\"sk-estimator-id-29\" class=\"sk-toggleable__label sk-toggleable__label-arrow\">remainder</label><div class=\"sk-toggleable__content\"><pre>[&#x27;age&#x27;, &#x27;year&#x27;, &#x27;games_played&#x27;, &#x27;goals&#x27;, &#x27;assists&#x27;, &#x27;minute_played&#x27;, &#x27;goals_conceded&#x27;, &#x27;clean_sheets&#x27;, &#x27;avg_age&#x27;, &#x27;squad_value&#x27;, &#x27;number_players&#x27;]</pre></div></div></div><div class=\"sk-serial\"><div class=\"sk-item\"><div class=\"sk-serial\"><div class=\"sk-item\"><div class=\"sk-estimator sk-toggleable\"><input class=\"sk-toggleable__control sk-hidden--visually\" id=\"sk-estimator-id-30\" type=\"checkbox\" ><label for=\"sk-estimator-id-30\" class=\"sk-toggleable__label sk-toggleable__label-arrow\">SimpleImputer</label><div class=\"sk-toggleable__content\"><pre>SimpleImputer(strategy=&#x27;median&#x27;)</pre></div></div></div><div class=\"sk-item\"><div class=\"sk-estimator sk-toggleable\"><input class=\"sk-toggleable__control sk-hidden--visually\" id=\"sk-estimator-id-31\" type=\"checkbox\" ><label for=\"sk-estimator-id-31\" class=\"sk-toggleable__label sk-toggleable__label-arrow\">StandardScaler</label><div class=\"sk-toggleable__content\"><pre>StandardScaler()</pre></div></div></div></div></div></div></div></div></div></div><div class=\"sk-item sk-dashed-wrapped\"><div class=\"sk-label-container\"><div class=\"sk-label sk-toggleable\"><input class=\"sk-toggleable__control sk-hidden--visually\" id=\"sk-estimator-id-32\" type=\"checkbox\" ><label for=\"sk-estimator-id-32\" class=\"sk-toggleable__label sk-toggleable__label-arrow\">classifier: GridSearchCV</label><div class=\"sk-toggleable__content\"><pre>GridSearchCV(estimator=XGBRegressor(base_score=0.5, booster=&#x27;gbtree&#x27;,\n",
       "                                    callbacks=None, colsample_bylevel=1,\n",
       "                                    colsample_bynode=1, colsample_bytree=1,\n",
       "                                    early_stopping_rounds=None,\n",
       "                                    enable_categorical=False, eval_metric=None,\n",
       "                                    gamma=0, gpu_id=-1, grow_policy=&#x27;depthwise&#x27;,\n",
       "                                    importance_type=None,\n",
       "                                    interaction_constraints=&#x27;&#x27;,\n",
       "                                    learning_rate=0.300000012, max_bin=256,\n",
       "                                    max_cat_to_onehot=4, max_delta_step=0,\n",
       "                                    max_depth=6, max_leaves=0,\n",
       "                                    min_child_weight=1, missing=nan,\n",
       "                                    monotone_constraints=&#x27;()&#x27;, n_estimators=100,\n",
       "                                    n_jobs=0, num_parallel_tree=1,\n",
       "                                    predictor=&#x27;auto&#x27;, random_state=0,\n",
       "                                    reg_alpha=0, reg_lambda=1, ...),\n",
       "             param_grid={&#x27;eta&#x27;: [0.01, 0.1], &#x27;gamma&#x27;: [0, 0.1, 0.2],\n",
       "                         &#x27;max_depth&#x27;: [5, 6, 7, 8]})</pre></div></div></div><div class=\"sk-parallel\"><div class=\"sk-parallel-item\"><div class=\"sk-item\"><div class=\"sk-label-container\"><div class=\"sk-label sk-toggleable\"><input class=\"sk-toggleable__control sk-hidden--visually\" id=\"sk-estimator-id-33\" type=\"checkbox\" ><label for=\"sk-estimator-id-33\" class=\"sk-toggleable__label sk-toggleable__label-arrow\">estimator: XGBRegressor</label><div class=\"sk-toggleable__content\"><pre>XGBRegressor(base_score=0.5, booster=&#x27;gbtree&#x27;, callbacks=None,\n",
       "             colsample_bylevel=1, colsample_bynode=1, colsample_bytree=1,\n",
       "             early_stopping_rounds=None, enable_categorical=False,\n",
       "             eval_metric=None, gamma=0, gpu_id=-1, grow_policy=&#x27;depthwise&#x27;,\n",
       "             importance_type=None, interaction_constraints=&#x27;&#x27;,\n",
       "             learning_rate=0.300000012, max_bin=256, max_cat_to_onehot=4,\n",
       "             max_delta_step=0, max_depth=6, max_leaves=0, min_child_weight=1,\n",
       "             missing=nan, monotone_constraints=&#x27;()&#x27;, n_estimators=100, n_jobs=0,\n",
       "             num_parallel_tree=1, predictor=&#x27;auto&#x27;, random_state=0, reg_alpha=0,\n",
       "             reg_lambda=1, ...)</pre></div></div></div><div class=\"sk-serial\"><div class=\"sk-item\"><div class=\"sk-estimator sk-toggleable\"><input class=\"sk-toggleable__control sk-hidden--visually\" id=\"sk-estimator-id-34\" type=\"checkbox\" ><label for=\"sk-estimator-id-34\" class=\"sk-toggleable__label sk-toggleable__label-arrow\">XGBRegressor</label><div class=\"sk-toggleable__content\"><pre>XGBRegressor(base_score=0.5, booster=&#x27;gbtree&#x27;, callbacks=None,\n",
       "             colsample_bylevel=1, colsample_bynode=1, colsample_bytree=1,\n",
       "             early_stopping_rounds=None, enable_categorical=False,\n",
       "             eval_metric=None, gamma=0, gpu_id=-1, grow_policy=&#x27;depthwise&#x27;,\n",
       "             importance_type=None, interaction_constraints=&#x27;&#x27;,\n",
       "             learning_rate=0.300000012, max_bin=256, max_cat_to_onehot=4,\n",
       "             max_delta_step=0, max_depth=6, max_leaves=0, min_child_weight=1,\n",
       "             missing=nan, monotone_constraints=&#x27;()&#x27;, n_estimators=100, n_jobs=0,\n",
       "             num_parallel_tree=1, predictor=&#x27;auto&#x27;, random_state=0, reg_alpha=0,\n",
       "             reg_lambda=1, ...)</pre></div></div></div></div></div></div></div></div></div></div></div></div>"
      ],
      "text/plain": [
       "Pipeline(steps=[('preprocessor',\n",
       "                 ColumnTransformer(remainder=Pipeline(steps=[('imputer',\n",
       "                                                              SimpleImputer(strategy='median')),\n",
       "                                                             ('scaler',\n",
       "                                                              StandardScaler())]),\n",
       "                                   transformers=[('countvectorizer',\n",
       "                                                  CountVectorizer(),\n",
       "                                                  'name_player'),\n",
       "                                                 ('onehotencoder',\n",
       "                                                  OneHotEncoder(handle_unknown='infrequent_if_exist',\n",
       "                                                                min_frequency=0.001),\n",
       "                                                  ['squad_name', 'role',\n",
       "                                                   'championship'])])),\n",
       "                ('c...\n",
       "                                                     interaction_constraints='',\n",
       "                                                     learning_rate=0.300000012,\n",
       "                                                     max_bin=256,\n",
       "                                                     max_cat_to_onehot=4,\n",
       "                                                     max_delta_step=0,\n",
       "                                                     max_depth=6, max_leaves=0,\n",
       "                                                     min_child_weight=1,\n",
       "                                                     missing=nan,\n",
       "                                                     monotone_constraints='()',\n",
       "                                                     n_estimators=100, n_jobs=0,\n",
       "                                                     num_parallel_tree=1,\n",
       "                                                     predictor='auto',\n",
       "                                                     random_state=0,\n",
       "                                                     reg_alpha=0, reg_lambda=1, ...),\n",
       "                              param_grid={'eta': [0.01, 0.1],\n",
       "                                          'gamma': [0, 0.1, 0.2],\n",
       "                                          'max_depth': [5, 6, 7, 8]}))])"
      ]
     },
     "execution_count": 22,
     "metadata": {},
     "output_type": "execute_result"
    }
   ],
   "source": [
    "gcv"
   ]
  },
  {
   "cell_type": "code",
   "execution_count": null,
   "id": "f1c60f00-7c61-4a99-9b6f-c239164f3ff7",
   "metadata": {},
   "outputs": [],
   "source": []
  }
 ],
 "metadata": {
  "kernelspec": {
   "display_name": "Python 3 (ipykernel)",
   "language": "python",
   "name": "python3"
  },
  "language_info": {
   "codemirror_mode": {
    "name": "ipython",
    "version": 3
   },
   "file_extension": ".py",
   "mimetype": "text/x-python",
   "name": "python",
   "nbconvert_exporter": "python",
   "pygments_lexer": "ipython3",
   "version": "3.8.13"
  }
 },
 "nbformat": 4,
 "nbformat_minor": 5
}
